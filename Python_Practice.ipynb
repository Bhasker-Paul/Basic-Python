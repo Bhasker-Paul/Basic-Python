{
  "cells": [
    {
      "cell_type": "markdown",
      "metadata": {
        "id": "oHANSDOm5IWE"
      },
      "source": [
        "# Sum of two numbers & write a Python program to take two numbers as input & calculate their sum"
      ]
    },
    {
      "cell_type": "code",
      "execution_count": null,
      "metadata": {
        "colab": {
          "base_uri": "https://localhost:8080/"
        },
        "id": "6PlrOE0HYSn6",
        "outputId": "cab81e85-26ab-4d26-c8a1-b817623dbbd3"
      },
      "outputs": [
        {
          "output_type": "stream",
          "name": "stdout",
          "text": [
            "Enter a number:5\n",
            "Enter a number:6\n",
            "11.0\n"
          ]
        }
      ],
      "source": [
        "Number1=float(input(\"Enter a number:\")) # Access the user to input a integer number according to his wish and store it in variable Number1\n",
        "Number2=float(input(\"Enter a number:\")) # Access the user to input another intehger number according to his wish & store it in variable Number2\n",
        "print(Number1+\n",
        "      Number2)"
      ]
    },
    {
      "cell_type": "markdown",
      "metadata": {
        "id": "B1wN7ger5gbw"
      },
      "source": [
        "# Avarage of three numbers"
      ]
    },
    {
      "cell_type": "code",
      "execution_count": null,
      "metadata": {
        "id": "hBWrQgegZS57",
        "colab": {
          "base_uri": "https://localhost:8080/"
        },
        "outputId": "4d867786-3faf-49e9-ee7e-be8dd2413a79"
      },
      "outputs": [
        {
          "output_type": "stream",
          "name": "stdout",
          "text": [
            "Enter a number:5\n",
            "Enter a number6\n",
            "Enter a number:3\n",
            "4.666666666666667\n"
          ]
        }
      ],
      "source": [
        "Number1=float(input(\"Enter a number:\"))# Prompt the user to input a number & store it in variable Number1\n",
        "Number2=float(input(\"Enter a number\")) # Prompt the user to input a number & store it in varible Number2\n",
        "Number3=float(input(\"Enter a number:\"))# prompt the user to input a numaber & store it in variable Number3\n",
        "Numbers=(Number1,Number2,Number3) # Keep the values in new variable Numbers\n",
        "Count=3 # Here given number is 3\n",
        "Sum=(Number1+Number2+Number3) # Adding all values of Numbers & stoted in variable Sum\n",
        "Avarage=Sum/Count # Calculating avarage value\n",
        "print(Avarage) # print avarage value\n",
        "\n",
        "\n"
      ]
    },
    {
      "cell_type": "markdown",
      "metadata": {
        "id": "Zo8yPINU2bvB"
      },
      "source": [
        "# Area of Rectangle ,Compute the area of a rectangle given its length l & width w"
      ]
    },
    {
      "cell_type": "code",
      "execution_count": null,
      "metadata": {
        "id": "vPRIUHds22vC",
        "colab": {
          "base_uri": "https://localhost:8080/"
        },
        "outputId": "a243d877-dd57-437c-c340-d8abe8d5b6dd"
      },
      "outputs": [
        {
          "output_type": "stream",
          "name": "stdout",
          "text": [
            "Enter a Number:5\n",
            "Enter a Number:6\n",
            "Area of Rectangale: 30.0\n"
          ]
        }
      ],
      "source": [
        "Length=float(input(\"Enter a Number:\")) #prompt the user to input a number & store it in variable Length\n",
        "Width=float(input(\"Enter a Number:\")) # prompt the user to input a number & store it in variable width\n",
        "Area_of_Rectangale=(Length*Width) # Calculating Area of Rectangle Multiplying Length & Width\n",
        "print(\"Area of Rectangale:\",Area_of_Rectangale) # print Area of Rectangale & get final result"
      ]
    },
    {
      "cell_type": "markdown",
      "metadata": {
        "id": "btgvy81m3E8D"
      },
      "source": [
        "# Perimeter of a Rectangle, write a Python program to calculate the perimeter of a rectangle given its length and width"
      ]
    },
    {
      "cell_type": "code",
      "execution_count": null,
      "metadata": {
        "id": "y8wp9Rqsfiio",
        "colab": {
          "base_uri": "https://localhost:8080/"
        },
        "outputId": "4e451033-cab4-4d8d-cf26-21ac5fc96372"
      },
      "outputs": [
        {
          "output_type": "stream",
          "name": "stdout",
          "text": [
            "Enter the measurment of Length:50\n",
            "Enter the measurment of Width:30\n",
            "Perimeter of a Rectangle: 160.0\n"
          ]
        }
      ],
      "source": [
        "Length=float(input(\"Enter the measurment of Length:\")) # prompt the user to input the measurment of Length\n",
        "Width=float(input(\"Enter the measurment of Width:\")) #Prompt the user to input the measurment of width\n",
        "Perimeter=2*(Length+Width) # calculating perimeter by using formula\n",
        "print(\"Perimeter of a Rectangle:\",Perimeter) # print perimeter of a rectangle"
      ]
    },
    {
      "cell_type": "markdown",
      "metadata": {
        "id": "nMOc36gq3gtY"
      },
      "source": [
        "# Circumference of a Circle & Write a Python program to calculate the circumference of a circular given its radious"
      ]
    },
    {
      "cell_type": "code",
      "execution_count": null,
      "metadata": {
        "id": "3s0Z_vo737CY",
        "colab": {
          "base_uri": "https://localhost:8080/"
        },
        "outputId": "0848a9f5-ea47-4460-f841-abe2912cdaef"
      },
      "outputs": [
        {
          "output_type": "stream",
          "name": "stdout",
          "text": [
            "Enter a given Number:5\n",
            "Circumference of a Circle: 78.53999999999999\n"
          ]
        }
      ],
      "source": [
        "radious=float(input(\"Enter radious Number:\")) # prompt the user to input a number & store it in new variable radious\n",
        "Circumferene_of_a_Circle=(3.1416*radious**2) # Calculate the Circumference of a Circle by using formula (pi*radious**2), the value of pi is=3.1416\n",
        "print(\"Circumference of a Circle:\",Circumferene_of_a_Circle) # print the circumference of circle & get final result"
      ]
    },
    {
      "cell_type": "markdown",
      "metadata": {
        "id": "-E1Rn0Nw4BLz"
      },
      "source": [
        "# Simple Interest, Write a Python program to calculate simple interest given the principal,rate & time"
      ]
    },
    {
      "cell_type": "code",
      "execution_count": null,
      "metadata": {
        "id": "M9Si-hfP4ib9",
        "colab": {
          "base_uri": "https://localhost:8080/"
        },
        "outputId": "104641ef-505c-4aa4-b779-33af5bac6ec1"
      },
      "outputs": [
        {
          "output_type": "stream",
          "name": "stdout",
          "text": [
            "Enter the pricipal amount:500000\n",
            "Enter the rate of interest:8\n",
            "Enter the time in years:2\n",
            "The given interest is: 80000.0 Taka\n"
          ]
        }
      ],
      "source": [
        "principal=float(input(\"Enter the pricipal amount:\")) # prompt the user to input the principal amount value in principal variable\n",
        "rate=float(input(\"Enter the rate of interest:\")) # prompt the user to input the rate of interest & store in variable rate\n",
        "time=float(input(\"Enter the time in years:\")) # prompt the user to input the time of years & store in variable time\n",
        "interest=(principal*rate*time)/100 # calculating interst by formula\n",
        "print(\"The given interest is:\",interest,\"Taka\") # print the interest amount in taka"
      ]
    },
    {
      "cell_type": "code",
      "execution_count": null,
      "metadata": {
        "id": "FvlNoPcXg3DV"
      },
      "outputs": [],
      "source": [
        "###Not understood"
      ]
    },
    {
      "cell_type": "markdown",
      "metadata": {
        "id": "tAco_iFO4mGW"
      },
      "source": [
        "# Distance Between Two Points , Write a Python program to calculate the distance between two points(x1,x2)"
      ]
    },
    {
      "cell_type": "code",
      "execution_count": null,
      "metadata": {
        "id": "ppV1rX2i5DHj"
      },
      "outputs": [],
      "source": []
    },
    {
      "cell_type": "code",
      "execution_count": null,
      "metadata": {
        "colab": {
          "base_uri": "https://localhost:8080/"
        },
        "id": "-SxohHArh57C",
        "outputId": "73d74e1e-69e6-428e-b5f7-fb919208157f"
      },
      "outputs": [
        {
          "output_type": "stream",
          "name": "stdout",
          "text": [
            "distance between two points: 2.8284271247461903\n"
          ]
        }
      ],
      "source": [
        "import math # import math library\n",
        "x1=5 # Created a new variable named x1 where, value is 5\n",
        "y1=6 # created a new variable named y1 where, value is 6\n",
        "x2=7 # Created a new variable named x2 where value is 7\n",
        "y2=8 # created a new variable , named y2 , where value is 8\n",
        "distance=math.sqrt((x1-x2)**2+(y1-y2)**2) # applying euclidan method for distance calculation\n",
        "print(\"distance between two points:\", distance) # print a & get final result\n"
      ]
    },
    {
      "cell_type": "markdown",
      "metadata": {
        "id": "EAumw6KX5wyz"
      },
      "source": [
        "# Sum of the First N Natural Numbers, Write a Python Program to calculate the sum of the first n natural numbers"
      ]
    },
    {
      "cell_type": "code",
      "execution_count": null,
      "metadata": {
        "colab": {
          "base_uri": "https://localhost:8080/"
        },
        "id": "hDssEXFljCzp",
        "outputId": "d414a88d-1a28-4b9b-9be2-9dd4f8b802c2"
      },
      "outputs": [
        {
          "output_type": "stream",
          "name": "stdout",
          "text": [
            "Enter any number:55\n",
            "1540\n"
          ]
        }
      ],
      "source": [
        "Natural_Number=int(input(\"Enter any number:\")) # Prompt the user to input a natuarl number, what will stored in variable Natural_Number\n",
        "sum=0 # Adding all values of Natural_Numbers & stored in variable sum\n",
        "for i in range(Natural_Number): #Applying for loop on each element upto that Natural_Number\n",
        "  i=i+1 # i # increment by 1 to get the actual natural number\n",
        "  sum=sum+i #Add the current value of i to the sum\n",
        "print(sum) # print sum & get final result"
      ]
    },
    {
      "cell_type": "markdown",
      "metadata": {
        "id": "nvoIQjMo6SSk"
      },
      "source": [
        "# Sum of the first N Even Numbers, Write a Python program to calculate the sum of the first n even numbers"
      ]
    },
    {
      "cell_type": "code",
      "execution_count": null,
      "metadata": {
        "colab": {
          "base_uri": "https://localhost:8080/"
        },
        "id": "GvC31XJY0MVH",
        "outputId": "aa165ff3-14a5-4c5e-dbf2-437c1ca1deed"
      },
      "outputs": [
        {
          "output_type": "stream",
          "name": "stdout",
          "text": [
            "Enter a number:4\n",
            "6\n"
          ]
        }
      ],
      "source": [
        "Even_Number=int(input(\"Enter a number:\")) # Prompt the user to input even number what will store in variable Even_Number\n",
        "sum=0 # Adding all vales of Even_Number & stored in variable sum\n",
        "for i in range(1,n+1): # Applying for loop from 1 to even Number\n",
        "  if (i%2==0): # Check , if the number is even or not.\n",
        "    sum=sum+i # add the even number & store in variable sum\n",
        "print(sum) # print sum & get final result"
      ]
    },
    {
      "cell_type": "markdown",
      "metadata": {
        "id": "kx9Ekn7167n8"
      },
      "source": [
        "# Sum of the First N Odd Numbers, write a Python program to calculate the sum of the firat n odd numbers"
      ]
    },
    {
      "cell_type": "code",
      "execution_count": null,
      "metadata": {
        "colab": {
          "base_uri": "https://localhost:8080/"
        },
        "id": "6rkL5cOG4swH",
        "outputId": "3113ef9e-6f37-4ebc-a01c-81d8ce6525e0"
      },
      "outputs": [
        {
          "name": "stdout",
          "output_type": "stream",
          "text": [
            "Enter a number:5\n",
            "9\n"
          ]
        }
      ],
      "source": [
        "Odd_Number=int(input(\"Enter a number:\")) # prompt the user to input odd number , what will store in variable odd_Number\n",
        "sum=0 # Adding all values of Odd Number & stored in variable sum\n",
        "for i in range(1,n+1): # Applying for loop in Odd_Number\n",
        "  if (i%2!=0): # Check if the variable is Odd or not\n",
        "    sum=sum+i # Add the odd number $ store in variable sum\n",
        "print(sum) # print sum & get final result"
      ]
    },
    {
      "cell_type": "markdown",
      "metadata": {
        "id": "ShQ5ekWw7ZLR"
      },
      "source": [
        "# Square of a Number , Write a Python program to find the square of a given number"
      ]
    },
    {
      "cell_type": "code",
      "execution_count": null,
      "metadata": {
        "colab": {
          "base_uri": "https://localhost:8080/"
        },
        "id": "7DLVNCoNbKdB",
        "outputId": "b5035f73-45fc-4775-e599-3b75a3ea58d9"
      },
      "outputs": [
        {
          "output_type": "stream",
          "name": "stdout",
          "text": [
            "Enter a number:9\n",
            "Square Number: 81.0\n"
          ]
        }
      ],
      "source": [
        "Number = float(input(\"Enter a number:\")) # prompt the user to input a number & what will store in variable Number\n",
        "Square_Number = Number**2 # Creating a variable named Square_Number, what will we do square Number\n",
        "print('Square Number:', Square_Number) # print Square_Number & get the final result"
      ]
    },
    {
      "cell_type": "markdown",
      "metadata": {
        "id": "FMB5DFMq7u5k"
      },
      "source": [
        "# Cube of a Number, write a Python Program to find the cube of a given number"
      ]
    },
    {
      "cell_type": "code",
      "execution_count": null,
      "metadata": {
        "colab": {
          "base_uri": "https://localhost:8080/"
        },
        "id": "92xUDZWrcQP0",
        "outputId": "b84ad3c5-ab7c-43a7-b3e3-a61e788f9a43"
      },
      "outputs": [
        {
          "output_type": "stream",
          "name": "stdout",
          "text": [
            "Enter a number:9\n",
            "Cube Number: 729\n"
          ]
        }
      ],
      "source": [
        "Number =int(input(\"Enter a number:\")) # promt the user to input a number & what will store in variable Number\n",
        "Cube_Number=Number**3 # craeting a variable named Cube_Number, what will we do cube number\n",
        "print(\"Cube Number:\",Cube_Number) #print Cube_Number & get final result"
      ]
    },
    {
      "cell_type": "markdown",
      "metadata": {
        "id": "SwEQUfB68B7s"
      },
      "source": [
        "# Check if a Number is Even or Odd, Write a Python program to determine a given number is even or Odd"
      ]
    },
    {
      "cell_type": "code",
      "execution_count": null,
      "metadata": {
        "colab": {
          "base_uri": "https://localhost:8080/"
        },
        "id": "K27sxNsJdH7m",
        "outputId": "82524af2-2030-4c65-b83b-2ce513145e7a"
      },
      "outputs": [
        {
          "output_type": "stream",
          "name": "stdout",
          "text": [
            "Enter a nymber:9\n",
            "The number is odd\n"
          ]
        }
      ],
      "source": [
        "Number=int(input(\"Enter a nymber:\")) # prompt the user to input a number & what will store in variable Number\n",
        "if Number%2==0: # check if the number is divisabe by two\n",
        "  print('The number is even') # if the number is even, print the number is even\n",
        "else:\n",
        "    print('The number is odd') # if the number is not even, print the number is odd"
      ]
    },
    {
      "cell_type": "markdown",
      "metadata": {
        "id": "3qJwooHP8Z8y"
      },
      "source": [
        "# Convert Celsius to Farenheit, Write a Python program to convert a temaprature given in Celsius to Fahernheit"
      ]
    },
    {
      "cell_type": "code",
      "execution_count": null,
      "metadata": {
        "colab": {
          "base_uri": "https://localhost:8080/"
        },
        "id": "5oeQx7LLdr-S",
        "outputId": "cda8846a-89bb-4287-855c-b7ed2d3328ad"
      },
      "outputs": [
        {
          "output_type": "stream",
          "name": "stdout",
          "text": [
            "Enter a number:30\n",
            "Farenheit Temparature: 960.0 Degree\n"
          ]
        }
      ],
      "source": [
        "Celsious_Temparature=float(input(\"Enter a number:\")) # prompt the user to input  a number & what will store in variable Celsious_Temparature.\n",
        "Farenheit_Temparature=(Celsious_Temparature*32) # Multiply Celsious_Temapature to convert it Farenheit_Temparature\n",
        "print(\"Farenheit Temparature:\",Farenheit_Temparature,'Degree') # print Farenheit temparature & get final result"
      ]
    },
    {
      "cell_type": "markdown",
      "metadata": {
        "id": "WFYPdOV09fJl"
      },
      "source": [
        "# Convert Faherheit to Celsius, Write a Python program to convert a temparature given in Fahrenheit to Celsius."
      ]
    },
    {
      "cell_type": "code",
      "execution_count": null,
      "metadata": {
        "colab": {
          "base_uri": "https://localhost:8080/"
        },
        "id": "4o6YWCdcgwfX",
        "outputId": "d4d5da41-7346-4c22-cc94-7dbb7ab84bf8"
      },
      "outputs": [
        {
          "output_type": "stream",
          "name": "stdout",
          "text": [
            "Enter a number:1\n",
            "Celsious_Temparature: -17.2222 Degree\n"
          ]
        }
      ],
      "source": [
        "Farenheit_Temparature=float(input(\"Enter a number:\")) #prompt to user to input a number, what will store in variable Fareheit_Tempatature\n",
        "Celsious_Temparature=(Farenheit_Temparature*-17.2222) # Multiply with -17.222 to convert farenheit Tempataure to Celsious Temaparaure\n",
        "print(\"Celsious_Temparature:\",Celsious_Temparature,'Degree') # print Celsious Temparature & get final result."
      ]
    },
    {
      "cell_type": "markdown",
      "metadata": {
        "id": "oh03Gkhc96ZN"
      },
      "source": [
        "# Maximum of Three Numbers, Write a Python program to find the maximum of three given numbers"
      ]
    },
    {
      "cell_type": "code",
      "execution_count": null,
      "metadata": {
        "colab": {
          "base_uri": "https://localhost:8080/"
        },
        "id": "EeKVBU4IhtIC",
        "outputId": "3fd189d4-9d03-47d3-f637-ea4b71b8f37a"
      },
      "outputs": [
        {
          "output_type": "stream",
          "name": "stdout",
          "text": [
            "Enter a number:3\n",
            "Enter a number:2\n",
            "Enter a number:5\n",
            "Number3 is maximum among three number\n"
          ]
        }
      ],
      "source": [
        "Number1=float(input(\"Enter a number:\")) # prompt the user to input a number & store it in variable Number1\n",
        "Number2=float(input(\"Enter a number:\")) # propmt the user to input a number & store it in variable Number2\n",
        "Number3=float(input(\"Enter a number:\")) #prompt the user to input a number & store it in variable Number3\n",
        "if Number1>Number2 and Number1>Number3: # Check if Number1 is graeter than Number2 & Number 3\n",
        "  print(\"Nymber1 is maximum among three numbers\") # If number1 is greater than Number2 & Number3, print Number1 is maximum among three Numbers\n",
        "elif Number2>Number1 and Number2>Number3: # Check if Number 2 is greater than Number1 & Number3\n",
        "      print(\"Number2is maximum among three number\") # If Number2 is greater than Number1 & Number3, print Number3 is maximum among three Numbers\n",
        "else:\n",
        "    print(\"Number3 is maximum among three number\") # Otherwise Number3 is greater than Number1 & Number2"
      ]
    },
    {
      "cell_type": "markdown",
      "metadata": {
        "id": "fmQHe3Pq-WvN"
      },
      "source": [
        "# Minimum of Three Numbers , Write a Python program to find the minimum of three given numbers."
      ]
    },
    {
      "cell_type": "code",
      "execution_count": null,
      "metadata": {
        "colab": {
          "base_uri": "https://localhost:8080/"
        },
        "id": "vYDw05PokVoQ",
        "outputId": "9d894369-1956-4ef6-a9c6-3571703af55b"
      },
      "outputs": [
        {
          "output_type": "stream",
          "name": "stdout",
          "text": [
            "Enter a number:5\n",
            "Enter a number:3\n",
            "Enter a number:2\n",
            "Number3 is minimum among three number\n"
          ]
        }
      ],
      "source": [
        "Number1=float(input(\"Enter a number:\")) #prompt the user to input a number & store it in variable Number1\n",
        "Number2=float(input(\"Enter a number:\")) #prompt the user to input a number & store it in variable Number2\n",
        "Number3=float(input(\"Enter a number:\")) #prompt the user to input a number & store it in variable Number3\n",
        "if Number1<Number2 and Number1<Number3: # Check if Number1 is less than Number2 & Number3\n",
        "  print(\"Number1 is minimum among three numbers\") # If Number1 is less than Number2 & Number3 print Number3 is minimum among three Numbers\n",
        "elif Number2<Number1 and Number2<Number3: # Check if Number2 is less than Number1 & Number3\n",
        "      print(\"Number2 is  minimum among three number\") # If Number2 is less than Number1 & Number3, print Number3 is minimum among three Numbers\n",
        "else: # Otherwise Number3 is minimum among three Numbers\n",
        "    print(\"Number3 is minimum among three number\") # print Number3 is minimum among three Numbers"
      ]
    },
    {
      "cell_type": "markdown",
      "metadata": {
        "id": "tV2n7UMF-xTL"
      },
      "source": [
        "# Calculate the hypotenyse of a Right-Angled Triange,Write a Python progarm to calculate the hypotenuse of a right-angled triangle given the length of the other two sides"
      ]
    },
    {
      "cell_type": "code",
      "execution_count": null,
      "metadata": {
        "id": "5izx10ge_4M1",
        "colab": {
          "base_uri": "https://localhost:8080/"
        },
        "outputId": "288a6647-9dfb-4bf9-f88b-f214491cc284"
      },
      "outputs": [
        {
          "output_type": "stream",
          "name": "stdout",
          "text": [
            "Enter the meaurment of perpendicular:5\n",
            "Enter the measurmenr of base:5\n",
            "Hypotenyse of a Right-Angled Triangle: 7.0710678118654755\n"
          ]
        }
      ],
      "source": [
        "perpendicalr=float(input(\"Enter the meaurment of perpendicular:\")) # prompt the user to input the measurment of perpenicular, what will store in parpendicular variable\n",
        "base=float(input(\"Enter the measurmenr of base:\"))# prompt the user to input the measurmnt of base, what will store in base variable\n",
        "import math # import math library\n",
        "hypotenyse=math.sqrt((perpendicalr**2)+(base**2)) # calculating hypotenyse by using formulla of pythagorean-theorem\n",
        "print(\"Hypotenyse of a Right-Angled Triangle:\",hypotenyse) # print Hypotenyse of a Right Triangle"
      ]
    },
    {
      "cell_type": "markdown",
      "metadata": {
        "id": "QT-qUBGE_jct"
      },
      "source": [
        "# Sum of Digits of Number, Wrte a Python program to calculte the sum of the digits of a given number"
      ]
    },
    {
      "cell_type": "code",
      "execution_count": null,
      "metadata": {
        "colab": {
          "base_uri": "https://localhost:8080/"
        },
        "id": "ykjE1SJ8liYN",
        "outputId": "f2d4634c-f49e-48f3-ba8e-d678f81a5ab2"
      },
      "outputs": [
        {
          "name": "stdout",
          "output_type": "stream",
          "text": [
            "Enter a number:100\n",
            "5050\n"
          ]
        }
      ],
      "source": [
        "Number=int(input(\"Enter a number:\")) # prompt the user to input a number & store it in variable Number\n",
        "sum=0 # Adding all the value of Number & store in variable sum\n",
        "for i in range(Number): # applying for loop to go through each number from 1 to 'Number\n",
        "  i+=1 #Increment i by 1, making the range from 1 to Number\n",
        "  sum=sum+i # Add the value of i to the sum\n",
        "print(sum) #print sum & get final result"
      ]
    },
    {
      "cell_type": "markdown",
      "metadata": {
        "id": "GDwG3CiHAIII"
      },
      "source": [
        "# Check if a Number is Prime , Write a Python program to determine ,if a given number is a prime number"
      ]
    },
    {
      "cell_type": "code",
      "execution_count": null,
      "metadata": {
        "colab": {
          "base_uri": "https://localhost:8080/"
        },
        "id": "q6zU_EjImV14",
        "outputId": "53d7cbf6-e655-4de8-9ec9-56b59eb472af"
      },
      "outputs": [
        {
          "output_type": "stream",
          "name": "stdout",
          "text": [
            "Enter a number:9\n",
            "This is not a prime number\n"
          ]
        }
      ],
      "source": [
        "Number=int(input(\"Enter a number:\")) #prompt the user to input a number & store it in variable Number\n",
        "if Number>1: # check if the Number is greater than 1\n",
        "  for i in range(2,Number): #Check the numbers from 2 up to (but not including) Number\n",
        "    if Number%i==0: # if divisable, this is not a prime Number\n",
        "     print(\"This is not a prime number\") # print the number is not a prime number\n",
        "     break\n",
        "  else: # if divisable, this is a prime Number\n",
        "    print(\"This is prime number\") # print the Number is prime Number"
      ]
    },
    {
      "cell_type": "markdown",
      "metadata": {
        "id": "R7liLtWDuv-M"
      },
      "source": [
        "Find the GCD of Two Numbers\n",
        "\n",
        "Write a Python program to find the greatest common divisor (GCD) of two given numbers."
      ]
    },
    {
      "cell_type": "markdown",
      "metadata": {
        "id": "gdC5qKQDBriN"
      },
      "source": [
        "# Find the GCD of Two Numbers , Write a Python program to find the gratest common divisor (GCD) of two given numbers"
      ]
    },
    {
      "cell_type": "code",
      "execution_count": null,
      "metadata": {
        "colab": {
          "base_uri": "https://localhost:8080/"
        },
        "id": "TwQGX4UIsQDX",
        "outputId": "5a0254b2-19ff-477e-87c4-06fe4eb55637"
      },
      "outputs": [
        {
          "name": "stdout",
          "output_type": "stream",
          "text": [
            "earn: [10000, 50000, 20000, 30000, 40000, 700000, 80000, 60000]\n",
            "earn: ['Lower Class', 'Middle Middle Class', 'lower Middle Class', 'lower Middle Class', 'lower Middle Class', 'Higher Middle Class', 'Lower Class', 'Middle Middle Class']\n"
          ]
        }
      ],
      "source": [
        "earns=[10000,50000,20000,30000,40000,700000,80000,60000]\n",
        "def status(earns):\n",
        "    if earns>=700000:\n",
        "        return \"Higher Middle Class\"\n",
        "    elif 50000<=earns<=60000:\n",
        "        return \"Middle Middle Class\"\n",
        "    elif 20000<=earns<=40000:\n",
        "        return \"lower Middle Class\"\n",
        "    else:\n",
        "        return \"Lower Class\"\n",
        "earn=map(status,earns)\n",
        "print(\"earn:\",earns)\n",
        "print(\"earn:\",list(earn))"
      ]
    },
    {
      "cell_type": "code",
      "execution_count": null,
      "metadata": {
        "colab": {
          "base_uri": "https://localhost:8080/"
        },
        "id": "hYU-Of-aDn9x",
        "outputId": "fc0e4ae7-dcdf-4dbe-91a8-f6b834afdac7"
      },
      "outputs": [
        {
          "name": "stdout",
          "output_type": "stream",
          "text": [
            "earning amount: <filter object at 0x7b21762096c0>\n",
            "earning amount: [70000, 80000, 60000]\n"
          ]
        }
      ],
      "source": [
        "earns=[10000,50000,20000,30000,40000,70000,80000,60000]\n",
        "def status(earns):\n",
        "    if earns>=60000:\n",
        "        return \"Higher Middle Class\"\n",
        "earn=filter(status,earns)\n",
        "print(\"earning amount:\",earn)\n",
        "print(\"earning amount:\",list(earn))"
      ]
    },
    {
      "cell_type": "code",
      "execution_count": null,
      "metadata": {
        "colab": {
          "base_uri": "https://localhost:8080/"
        },
        "id": "M-4PZpKbsDYX",
        "outputId": "9423c9b2-9a33-429b-bd5c-afae8ebe6f35"
      },
      "outputs": [
        {
          "name": "stdout",
          "output_type": "stream",
          "text": [
            "Exam Score: [80, 85, 90, 87, 77, 65, 58, 74, 45, 40, 32, 70, 60, 55, 50, 45, 85, 39, 40, 54]\n",
            "Grades: ['A +', 'A +', 'A +', 'A +', 'A', 'B+', 'C+', 'A-', 'C-', 'D', 'F', 'A-', 'B', 'C+', 'C', 'C-', 'A +', 'F', 'D', 'C']\n"
          ]
        }
      ],
      "source": [
        "marks=[80,85,90,87,77,65,58,74,45,40,32,70,60,55,50,45,85,39,40,54]\n",
        "def grade(marks):\n",
        "    if marks>=80:\n",
        "        return 'A +'\n",
        "    elif 75<=marks<=79:\n",
        "        return 'A'\n",
        "    elif 70<=marks<=74:\n",
        "        return 'A-'\n",
        "    elif 65<=marks<=69:\n",
        "        return 'B+'\n",
        "    elif 60<=marks<=64:\n",
        "        return 'B'\n",
        "    elif 55<=marks<=59:\n",
        "        return 'C+'\n",
        "    elif 50<=marks<=54:\n",
        "        return 'C'\n",
        "    elif 45<=marks<=49:\n",
        "        return 'C-'\n",
        "    elif 40<=marks<=44:\n",
        "        return 'D'\n",
        "    else:\n",
        "        return 'F'\n",
        "grades=map(grade,marks)\n",
        "print(\"Exam Score:\",marks)\n",
        "print('Grades:',list(grades))"
      ]
    },
    {
      "cell_type": "markdown",
      "metadata": {
        "id": "ZI6gzwSeI5j9"
      },
      "source": [
        "# Write a program to calculate the sum of all elements in a list using a for loop\n"
      ]
    },
    {
      "cell_type": "code",
      "execution_count": null,
      "metadata": {
        "colab": {
          "base_uri": "https://localhost:8080/"
        },
        "id": "9xk0-qkBJU-3",
        "outputId": "0cd28702-66a3-448a-80b5-582e951dcad9"
      },
      "outputs": [
        {
          "name": "stdout",
          "output_type": "stream",
          "text": [
            "315\n"
          ]
        }
      ],
      "source": [
        "Elements=[15,20,25,30,35,40,45,50,55] # Creating a list in a new variable\n",
        "\n",
        "sum=0 # Create a new variable named sum, where store all the elements after sum\n",
        "for i in Elements:  # applying for loop in each elements of Element variable\n",
        "  sum=sum+i    # adding each element of variable Element and store in variable sum\n",
        "print(sum)       # print the variable sum & get finalize result"
      ]
    },
    {
      "cell_type": "markdown",
      "metadata": {
        "id": "_WUlk_lBMO8u"
      },
      "source": [
        "# Write a program to calculate the avarage of the elements in a list using a for loop.\n"
      ]
    },
    {
      "cell_type": "code",
      "execution_count": null,
      "metadata": {
        "colab": {
          "base_uri": "https://localhost:8080/"
        },
        "id": "ymptA7IpM2u7",
        "outputId": "25511ac6-0c3a-4273-aae7-911d785074a4"
      },
      "outputs": [
        {
          "name": "stdout",
          "output_type": "stream",
          "text": [
            "50.0\n"
          ]
        }
      ],
      "source": [
        "Elements=[10,20,30,40,50,60,70,80,90] # Creating a list in new variable\n",
        "sum=0 # create a new variable sum & store the all elements of sum\n",
        "count=0 # create a new variable count & count the all elements\n",
        "for i in Elements: # creating a for loop\n",
        "  count+=1 #increase the count one by one for each element\n",
        "  sum=sum+i # add the all value of sum & stored to new variable sum\n",
        "avarage=(sum/count) #Calculating the avarage dividing the sum by count\n",
        "print(avarage) # Print & get the final result of avarage\n"
      ]
    },
    {
      "cell_type": "markdown",
      "metadata": {
        "id": "EkYE_uhCVzno"
      },
      "source": [
        "\n",
        "# Write a program to filter out the even numbers from a list and store them in a new list."
      ]
    },
    {
      "cell_type": "code",
      "execution_count": null,
      "metadata": {
        "colab": {
          "base_uri": "https://localhost:8080/"
        },
        "id": "j5MoMaaPWNCD",
        "outputId": "398f0046-35c5-495b-b90d-46a3a09df5c0"
      },
      "outputs": [
        {
          "name": "stdout",
          "output_type": "stream",
          "text": [
            "[2, 14, 16, 18]\n"
          ]
        }
      ],
      "source": [
        "Numbers = [1, 2, 3, 5, 7, 9, 11, 13, 14, 16, 18] # Creating a list in new varible named Numbers\n",
        "even=[] # Creating a new variable to store the even numbers\n",
        "for i in Numbers: # applying for loops in each elements of variable Numbers\n",
        "  if i % 2 == 0: # Check the even numbers by using if condition\n",
        "    even.append(i) # append the even number in even list\n",
        "print( even) # print the result & get final output regarding even numbers\n"
      ]
    },
    {
      "cell_type": "markdown",
      "metadata": {
        "id": "axeYMDSjkNdr"
      },
      "source": [
        "# Write a program to calculate the factorial of given number using for loop.\n"
      ]
    },
    {
      "cell_type": "code",
      "execution_count": null,
      "metadata": {
        "colab": {
          "base_uri": "https://localhost:8080/"
        },
        "id": "BQv5m5jBkiLt",
        "outputId": "03eccca2-f561-4403-80c1-f3fdb70c70b7"
      },
      "outputs": [
        {
          "name": "stdout",
          "output_type": "stream",
          "text": [
            "Enter a number:10\n",
            "The factorial (number): 3628800\n"
          ]
        }
      ],
      "source": [
        "# Creating a new variable number, where will we input the differen value.\n",
        "number=int(input('Enter a number:'))\n",
        "\n",
        "# Creating a new variable named number\n",
        "factorial=1\n",
        "\n",
        "# applying for loop in variable number\n",
        "for i in range(number):\n",
        "\n",
        "  #Multiply factorial with (i+1)\n",
        "  factorial*=i+1\n",
        "\n",
        "print('The factorial (number):',factorial)\n",
        "\n",
        "\n"
      ]
    },
    {
      "cell_type": "markdown",
      "metadata": {
        "id": "NGNMeYnlrOHw"
      },
      "source": [
        "# Write a program to count the occurrences of each element in a list.\n"
      ]
    },
    {
      "cell_type": "code",
      "execution_count": null,
      "metadata": {
        "colab": {
          "base_uri": "https://localhost:8080/"
        },
        "id": "Nw_9FBKyrl8u",
        "outputId": "147ed3dd-e74f-452e-b9dc-541f8081831e"
      },
      "outputs": [
        {
          "output_type": "stream",
          "name": "stdout",
          "text": [
            "{'Dhaka': 2, 'Chittagong': 2, 'Rangpur': 1, 'Khulna': 1}\n"
          ]
        }
      ],
      "source": [
        "City=['Dhaka','Chittagong','Rangpur','Khulna','Dhaka','Chittagong'] # Creating a new varible named City, where put the different City name\n",
        "count={}# creating a dictonary named count, where stored the count of each city\n",
        "for i in City: # Applying for loop in variable City\n",
        "  if i in count:# Applying if condition to count the city\n",
        "    count[i]+=1# if the city is exists in count dictonary , increse its count by 1\n",
        "  else:\n",
        "    count[i]=1 # if the city is not exist ,add it counts of 1\n",
        "print(count) # print count & get final result.\n"
      ]
    },
    {
      "cell_type": "markdown",
      "source": [
        "# Write a program to create a new list where each element is the cumulative sum of the elements up to that point in the original list."
      ],
      "metadata": {
        "id": "PMgc4dElOzY1"
      }
    },
    {
      "cell_type": "code",
      "source": [
        "element=[10,20,30,40,50,60,70,80,90] # creating a list , which variabe name is element\n",
        "sum=0 # creating a new variabe sum, where stored the cumulative sum\n",
        "result=[] # creating a list named sum, where store the cumulative sum\n",
        "for i in element:# applying for loop in element variable\n",
        "  sum+=i # add the current element to the cumulative sum\n",
        "  result.append(sum) # append the cumulative sum to the result\n",
        "print(result) # print the result & get final output."
      ],
      "metadata": {
        "colab": {
          "base_uri": "https://localhost:8080/"
        },
        "id": "liiZWOFKPHPW",
        "outputId": "f2362c23-e9f3-46c1-cfa0-422dc872d0a2"
      },
      "execution_count": null,
      "outputs": [
        {
          "output_type": "stream",
          "name": "stdout",
          "text": [
            "[10, 30, 60, 100, 150, 210, 280, 360, 450]\n"
          ]
        }
      ]
    },
    {
      "cell_type": "markdown",
      "source": [
        "# Write a program to create a new list that contains the product of each pair of elements from two lists."
      ],
      "metadata": {
        "id": "FgL6QqL5Yl7V"
      }
    },
    {
      "cell_type": "code",
      "source": [
        "list1=[11,12,13]# Creating a list, where inserted three values in a variable named List1\n",
        "list2=[3,4,5]# Creating a list, where inserted three values in a variable named list2\n",
        "products = [] #Creating a variable , named products , where stored the pair elements of two list\n",
        "for i in range(len(list1)): # Applying for loop in length of list1.\n",
        "    product = (list1[i],list2[i])# create a tuple from list1 & list2\n",
        "    products.append(product)# Append the tuple in products list.\n",
        "print(\"Pairwise products:\", products)# Finaly print the pairwise product.\n",
        "\n",
        "\n"
      ],
      "metadata": {
        "colab": {
          "base_uri": "https://localhost:8080/"
        },
        "id": "ZOSywmr_Y62Z",
        "outputId": "dcc7554e-d7f9-4cfd-d9e8-684525df96f3"
      },
      "execution_count": null,
      "outputs": [
        {
          "output_type": "stream",
          "name": "stdout",
          "text": [
            "Pairwise products: [(11, 3), (12, 4), (13, 5)]\n"
          ]
        }
      ]
    },
    {
      "cell_type": "markdown",
      "source": [
        "# Write a program to normalize a list of numbers to a range between 0 and 1."
      ],
      "metadata": {
        "id": "XDq4NzU9-kUr"
      }
    },
    {
      "cell_type": "code",
      "source": [
        "Number=[4,8,16,32,64,128] # Creating a list, which variable name is named\n",
        "Max_Number=max(Number) # Finding maximum number by max function\n",
        "Min_Number=min(Number) # Finding minimum number by min function\n",
        "Normalized_number=[]  # Creating a list named Normalized Number, where Normalized Number will be stored.\n",
        "for number in Number: # Applying for loop in variable number.\n",
        "  Normalized_Value=(number-Min_Number)/(Max_Number-Min_Number) # Calculated Normalized value\n",
        "  Normalized_number.append(Normalized_Value) # Append the normaized value with Normalized Number\n",
        "print(\"normalized number:\",Normalized_number) # Get the finalize result & print normalized number.\n"
      ],
      "metadata": {
        "colab": {
          "base_uri": "https://localhost:8080/"
        },
        "id": "3E5dPWRA-7Ge",
        "outputId": "35397805-ed69-4481-ff3a-2a3b6309173a"
      },
      "execution_count": null,
      "outputs": [
        {
          "output_type": "stream",
          "name": "stdout",
          "text": [
            "normalized number: [0.0, 0.03225806451612903, 0.0967741935483871, 0.22580645161290322, 0.4838709677419355, 1.0]\n"
          ]
        }
      ]
    },
    {
      "cell_type": "markdown",
      "source": [
        "# Write a program to transpose a given matrix (list of lists) using a for loop."
      ],
      "metadata": {
        "id": "O82haLzmcNZM"
      }
    },
    {
      "cell_type": "code",
      "source": [
        "matrix=[[1,2,3],# Creaing a matrix, where 3 rows & 3 columns\n",
        "        [4,5,6],\n",
        "        [7,8,9] ]\n",
        "rows=len(matrix) # calculate the number of rows in original matrix\n",
        "cols=len(matrix[0]) # calculate the number of columns in original matrix\n",
        "transpose=[[0 for _ in range(rows)] for _ in range(cols)] # intializing transpose matrix with appropriate rows & columns\n",
        "for i in range (cols): # Applying for loop in columns of original matrix\n",
        "  for j in range (rows): # Applying for loop in rows of original matrix\n",
        "    transpose[i][j]=matrix[j][i] # Assign the elements of original matrix to transpose matrix.\n",
        "print(\"Transpose Matrix:\") # print transpose matrix\n",
        "for rows in transpose:\n",
        "  print(rows)\n"
      ],
      "metadata": {
        "colab": {
          "base_uri": "https://localhost:8080/"
        },
        "id": "w0smg4THcWik",
        "outputId": "bb9fac1d-22d7-429f-dd0e-1965c767694a"
      },
      "execution_count": null,
      "outputs": [
        {
          "output_type": "stream",
          "name": "stdout",
          "text": [
            "Transpose Matrix:\n",
            "[1, 4, 7]\n",
            "[2, 5, 8]\n",
            "[3, 6, 9]\n"
          ]
        }
      ]
    },
    {
      "cell_type": "markdown",
      "source": [
        "# Write a program to transpose a given matrix (list of lists) using a for loop & numpy library"
      ],
      "metadata": {
        "id": "gE_lIJ2uyiII"
      }
    },
    {
      "cell_type": "code",
      "source": [
        "import numpy as np # import numpy library as np\n",
        "matrix=[[12,14,16], #creating a matrix, where is 3 rows & 3 columns\n",
        "        [22,24,26],\n",
        "        [32,34,36]]\n",
        "np.matrix=np.array(matrix) # Converiting the matrix into array & stored into np.matrix variable\n",
        "transpose_matrix=np.matrix.T # transpose the matrix\n",
        "print(\"Transpose Matrix:\")\n",
        "print(transpose_matrix)"
      ],
      "metadata": {
        "colab": {
          "base_uri": "https://localhost:8080/"
        },
        "id": "qoPGYBkSyqt7",
        "outputId": "eb24d940-5945-479d-c431-75a3e6c6e3f6"
      },
      "execution_count": null,
      "outputs": [
        {
          "output_type": "stream",
          "name": "stdout",
          "text": [
            "Transpose Matrix:\n",
            "[[12 22 32]\n",
            " [14 24 34]\n",
            " [16 26 36]]\n"
          ]
        }
      ]
    },
    {
      "cell_type": "markdown",
      "source": [
        "# Write a program to claculate the standard deviation of a list of numbers using a for loop.\n"
      ],
      "metadata": {
        "id": "wDxvAdnyaBWI"
      }
    },
    {
      "cell_type": "code",
      "source": [
        "import math # import math library\n",
        "Numbers=[15,25,30,35,40,45] # Creating a list & stored the values in variable Numbers\n",
        "sum=0 # Creating a variable sum & store the sum of all values of list\n",
        "for number in Numbers: # Applying for loops in number\n",
        "  sum+=number # add  the all element of number variable & stored in variable sum\n",
        "print(sum) # print the sum & get sum vales of all element of Numbers variable\n",
        "print(\"No of elements are:\",len(Numbers)) # print the total frequency of Numbers variable\n",
        "avarage=sum/len(Numbers) # getting the avarage of the list\n",
        "print(avarage) # print the avarage value\n",
        "variance=1/5*((31.67-15)**2+(31.67-25)**2+(31.67-30)**2+(31.67-35)**2 # calcutaing variance of the numbers.\n",
        "                          +(31.67-40)**2+(31.67-45)**2)\n",
        "print(variance) # print variance\n",
        "standard_deviation=math.sqrt(variance) # Calculating standard deviation by square root of variance using math library.\n",
        "print(standard_deviation) # print the standard deviation & get final result.\n",
        "\n"
      ],
      "metadata": {
        "colab": {
          "base_uri": "https://localhost:8080/"
        },
        "outputId": "9e37ffd9-e339-4eee-d310-1c5fb893bcb2",
        "id": "bUs4ywMFhdPH"
      },
      "execution_count": null,
      "outputs": [
        {
          "output_type": "stream",
          "name": "stdout",
          "text": [
            "190\n",
            "No of elements are: 6\n",
            "31.666666666666668\n",
            "116.66668\n",
            "10.801235114559816\n"
          ]
        }
      ]
    },
    {
      "cell_type": "markdown",
      "source": [
        "# Write a Python function to multiply two matrices. The function should take two matrices (lists of lists) as input and return their product."
      ],
      "metadata": {
        "id": "R-FfKD_UrRli"
      }
    },
    {
      "cell_type": "code",
      "source": [
        "Matrix1=[[1,2,3], # Creating a Matrix named Matrix1\n",
        "         [4,5,6],\n",
        "         [7,8,9]]\n",
        "Matrix2=[[10,11,12], # Creating a Matrix named Matrix2\n",
        "         [13,14,5],\n",
        "         [16,17,18]]\n",
        "rows1=len(Matrix1) # Calculating the number of rows in Matrix1\n",
        "cols1=len(Matrix1[0]) # Calculating the number of columns in Matrix1\n",
        "rows2 = len(Matrix2[0]) # Calculating the number of rows in Matrix 2\n",
        "cols2 = len(Matrix2) # Calculating the number of columns in Matrix2\n",
        "new_matrix = [[0 for _ in range(rows1)] for _ in range(cols2)] # Creating a new variable named new matrix with appropriate rows & columns\n",
        "for i in range(cols1): # applying for loops in columns of Matrx1\n",
        "  for j in range(rows2): # Applying for loops in rows of Matrix2\n",
        "    new_matrix[i][j]=Matrix1[i][j]*Matrix2[j][i] # Mulitiplying the matrix in rows & columns\n",
        "print(\"New Multiply Matrix:\",new_matrix) # Print new multiply Matrix & Get Final Result\n"
      ],
      "metadata": {
        "colab": {
          "base_uri": "https://localhost:8080/"
        },
        "id": "jwuc0z4Wr90e",
        "outputId": "5c13832c-9402-422e-a7a6-9efe8eb610ec"
      },
      "execution_count": null,
      "outputs": [
        {
          "output_type": "stream",
          "name": "stdout",
          "text": [
            "New Multiply Matrix: [[10, 26, 48], [44, 70, 102], [84, 40, 162]]\n"
          ]
        }
      ]
    },
    {
      "cell_type": "markdown",
      "source": [
        "# Task: Calculate the mean, median, mode, variance, and standard deviation of the given dataset.\n",
        "Dataset: [85, 90, 78, 92, 88, 76, 95, 89, 84, 91]"
      ],
      "metadata": {
        "id": "7s1s0f7qhMj1"
      }
    },
    {
      "cell_type": "code",
      "source": [
        "Dataset=[85,90,78,92,88,76,95,89,84,81] # Creating a list, variable name Dataset\n",
        "sum=0 # Creating a variable sum & store the value of sum\n",
        "for number in Dataset: # Applying for loop on each value of variable Dataset\n",
        "  sum+=number # Add the all values of Dataset\n",
        "print(\"Sum of the list:\",sum) # print sum & get the sum of the list\n",
        "len(Dataset) #Calculate the number of values in Dataset\n",
        "Mean=sum/len(Dataset) # Calculate the mean value of the Dataset\n",
        "print(\"Mean of the given DataSet:\",Mean) # Print the mean value of the dataset\n",
        "n=10 # Creanting the new variabe n , where i input the number of values .\n",
        "median_observation=(10+1)/2 # Calculate the median position & store the value in a new variable name median_observation\n",
        "print(median_observation) # print the median observation & get the value of median position\n",
        "Median=(88+76)/2 # Calculate the median value\n",
        "print(\"Median of the Data Set:\",Median) # Print the Median value of data set & get the final result.\n",
        "count={} # Creating a new dictonary count, where store the count of each element of DataSet\n",
        "for i in Dataset: # Applying for loop in each element of dataset.\n",
        "  if i in count:# Applying if condintion to count the element.\n",
        "    count[i]+=1 # If one element exists more than one , it increases by one.\n",
        "  else:\n",
        "      count[i]=1 # if there is no exists , of element bfore , count it as one.\n",
        "print(\"frequency of the DataSet:\", count) # print the count of each element , here noted that threre is every element frequency is one , so there is no mode.\n",
        "\n",
        "\n",
        "\n",
        "\n",
        "\n"
      ],
      "metadata": {
        "colab": {
          "base_uri": "https://localhost:8080/"
        },
        "id": "RZHEq9PlhQ9A",
        "outputId": "59644cc7-378d-4660-cbc6-5237c3b3270f"
      },
      "execution_count": null,
      "outputs": [
        {
          "output_type": "stream",
          "name": "stdout",
          "text": [
            "Sum of the list: 858\n",
            "Mean of the given DataSet: 85.8\n",
            "5.5\n",
            "Median of the Data Set: 82.0\n",
            "frequency of the DataSet: {85: 1, 90: 1, 78: 1, 92: 1, 88: 1, 76: 1, 95: 1, 89: 1, 84: 1, 81: 1}\n"
          ]
        }
      ]
    },
    {
      "cell_type": "markdown",
      "source": [
        "# Probability Distribution Generate a normal distribution with a mean of 100 and a standard deviation of 15. Plot the distribution and calculate the probability of a value falling between 85 and 115.Parameters: mean = 100, standard deviation = 15, size = 1000"
      ],
      "metadata": {
        "id": "d96G9gD0xi-_"
      }
    },
    {
      "cell_type": "code",
      "source": [
        "import numpy as np # import numpy library for linear algenbra.\n",
        "from scipy.stats import norm # a submodule of Scipy library that provides methods for working with Normal Distribution\n",
        "import matplotlib.pyplot as plt # import matplotlib as plt\n",
        "\n",
        "Mean=100 # Here is given that Mean is 100\n",
        "standard_deviation=15 # Here is given that standard deviation is 15\n",
        "size=1000 # Here is given thar size is 1000\n",
        "min_value=85 # stored minimum value in variable min_value\n",
        "max_value=115 # Stored max value in variable max_value\n",
        "z_min_value=(85-100)/15 # Calculte z minumum value with 85 & store it new varible in z_min_value\n",
        "z_max_value=(115-100)/15 # Calculate z maximum value with 115 & store it new varible in z_max_value\n",
        "min_probability=norm.cdf(z_min_value) # Calculate the minimum probability by using z_min_value\n",
        "max_probability=norm.cdf(z_max_value) # Calculate the maximum probability by using z_max_value\n",
        "percent=(max_probability-min_probability)*100   # Calculte the probablity & multiply it with 100 & store in variable percent.\n",
        "print(\"Probability of the value:\",percent,\"%\") # Finaly print the probability of the value.\n",
        "data = np.random.normal(Mean,standard_deviation,size) # Generate normal distribution data\n",
        "plt.hist(data) # plot histogram\n",
        "plt.xlabel('Value') # Name of the x-axis of the plot\n",
        "plt.ylabel('Probability Density') # Name of the y-axis of the plot\n",
        "plt.title('Plot of Probability Density Function'.format(Mean,standard_deviation)) # Create title name of the plot\n",
        "plt.grid(True) #  Show grid line in the plot\n",
        "plt.show() # Show the plot\n",
        "\n",
        "\n"
      ],
      "metadata": {
        "id": "0OPIszyKxsz3",
        "colab": {
          "base_uri": "https://localhost:8080/",
          "height": 489
        },
        "outputId": "8d3df4a5-886d-4f3e-f4b6-d491bb032390"
      },
      "execution_count": null,
      "outputs": [
        {
          "output_type": "stream",
          "name": "stdout",
          "text": [
            "Probability of the value: 68.26894921370858 %\n"
          ]
        },
        {
          "output_type": "display_data",
          "data": {
            "text/plain": [
              "<Figure size 640x480 with 1 Axes>"
            ],
            "image/png": "[encoded data removed]"
          },
          "metadata": {}
        }
      ]
    },
    {
      "cell_type": "markdown",
      "source": [
        "# Hypothesis TestingPerform a t-test to determine if there is a significant difference between the scores of two teaching method ,\n",
        "Dataset:\n",
        "Method 1: [78, 85, 89, 92, 88, 76, 95, 89, 84, 91],\n",
        "Method 2: [82, 80, 78, 88, 85, 79, 92, 85, 87, 90]"
      ],
      "metadata": {
        "id": "utTG9BDZQnKW"
      }
    },
    {
      "cell_type": "code",
      "source": [],
      "metadata": {
        "id": "BhuDvwBmRavU"
      },
      "execution_count": null,
      "outputs": []
    },
    {
      "cell_type": "code",
      "source": [],
      "metadata": {
        "id": "917W1CocRKEN"
      },
      "execution_count": null,
      "outputs": []
    }
  ],
  "metadata": {
    "colab": {
      "provenance": []
    },
    "kernelspec": {
      "display_name": "Python 3",
      "name": "python3"
    },
    "language_info": {
      "name": "python"
    }
  },
  "nbformat": 4,
  "nbformat_minor": 0
}